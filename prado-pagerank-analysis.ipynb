{
 "cells": [
  {
   "cell_type": "markdown",
   "metadata": {
    "id": "C8T3F_NfLRSL",
    "vscode": {
     "languageId": "plaintext"
    }
   },
   "source": [
    "# Link analysis of Prado Museum Pictures dataset\n",
    "\n",
    "[![Open In Colab](https://colab.research.google.com/assets/colab-badge.svg)](https://colab.research.google.com/github/tuedsci/amd/blob/main/prado-pagerank-analysis.ipynb)\n"
   ]
  },
  {
   "cell_type": "code",
   "execution_count": 1,
   "metadata": {
    "colab": {
     "base_uri": "https://localhost:8080/"
    },
    "id": "5EZENg9BP9fI",
    "outputId": "2be0836b-1133-4dff-c4c1-027448112a66"
   },
   "outputs": [
    {
     "name": "stdout",
     "output_type": "stream",
     "text": [
      "Requirement already satisfied: pyspark in /usr/local/lib/python3.10/dist-packages (3.5.3)\n",
      "Requirement already satisfied: py4j==0.10.9.7 in /usr/local/lib/python3.10/dist-packages (from pyspark) (0.10.9.7)\n"
     ]
    }
   ],
   "source": [
    "!apt-get install openjdk-8-jdk-headless -qq > /dev/null\n",
    "!pip install pyspark"
   ]
  },
  {
   "cell_type": "markdown",
   "metadata": {
    "id": "xvd6IsBabC57"
   },
   "source": [
    "## Libraries\n"
   ]
  },
  {
   "cell_type": "code",
   "execution_count": 2,
   "metadata": {
    "id": "cEq5v9VWLRSP"
   },
   "outputs": [],
   "source": [
    "import os\n",
    "import zipfile\n",
    "import pandas as pd\n",
    "import numpy as np\n",
    "import networkx as nx\n",
    "\n",
    "import matplotlib.pyplot as plt\n",
    "import seaborn as sns\n",
    "\n",
    "from pyspark.sql import SparkSession\n",
    "from pyspark.sql import functions as sf\n",
    "from pyspark.sql import types as st"
   ]
  },
  {
   "cell_type": "markdown",
   "metadata": {
    "id": "3H_G7NrCbJ0d"
   },
   "source": [
    "## Setup\n"
   ]
  },
  {
   "cell_type": "code",
   "execution_count": null,
   "metadata": {
    "id": "IcZEX1DJLRSR"
   },
   "outputs": [],
   "source": [
    "# Please insert your Kaggle credentials to run\n",
    "os.environ[\"KAGGLE_USERNAME\"] = \"XXXXXXXXXXXXXXXXXXXXXXXXXXXXXXXXXXXXXXXX\"\n",
    "os.environ[\"KAGGLE_KEY\"] = \"XXXXXXXXXXXXXXXXXXXXXXXXXXXXXXXXXXXXXXXX\""
   ]
  },
  {
   "cell_type": "code",
   "execution_count": null,
   "metadata": {
    "id": "mN__7r5aYqAv"
   },
   "outputs": [],
   "source": [
    "# Init a Spark session\n",
    "spark = (\n",
    "    SparkSession.builder.appName(\"prado\")\n",
    "    .config(\"spark.driver.memory\", \"9g\")\n",
    "    .config(\"spark.driver.maxResultSize\", \"2g\")\n",
    "    .config(\"spark.driver.port\", \"0\")\n",
    "    .master(\"local[*]\")\n",
    "    .getOrCreate()\n",
    ")\n",
    "\n",
    "spark.sparkContext.setLogLevel(\"WARN\")"
   ]
  },
  {
   "cell_type": "markdown",
   "metadata": {
    "id": "QKvLinNkTHpE"
   },
   "source": [
    "## Download data\n"
   ]
  },
  {
   "cell_type": "code",
   "execution_count": 5,
   "metadata": {
    "colab": {
     "base_uri": "https://localhost:8080/"
    },
    "id": "HhHKzhQFLRSR",
    "outputId": "f49426ef-8255-44d5-9872-39cd2113bd1c"
   },
   "outputs": [
    {
     "name": "stdout",
     "output_type": "stream",
     "text": [
      "Dataset URL: https://www.kaggle.com/datasets/maparla/prado-museum-pictures\n",
      "License(s): MIT\n",
      "Downloading prado-museum-pictures.zip to /content\n",
      "100% 24.9G/24.9G [05:27<00:00, 123MB/s]\n",
      "100% 24.9G/24.9G [05:27<00:00, 81.6MB/s]\n"
     ]
    }
   ],
   "source": [
    "# Download dataset\n",
    "!kaggle datasets download maparla/prado-museum-pictures"
   ]
  },
  {
   "cell_type": "code",
   "execution_count": 6,
   "metadata": {
    "id": "6_gXMUNUMlsD"
   },
   "outputs": [],
   "source": [
    "# Extract only prado.csv from zip\n",
    "with zipfile.ZipFile(\"prado-museum-pictures.zip\", \"r\") as z:\n",
    "    csv_file = next(f for f in z.namelist() if f.lower() == \"prado.csv\")\n",
    "    z.extract(csv_file)"
   ]
  },
  {
   "cell_type": "code",
   "execution_count": 7,
   "metadata": {
    "id": "seFVyZ3RPG_I"
   },
   "outputs": [],
   "source": [
    "# Set path to the data\n",
    "DATA_PATH = \"prado.csv\""
   ]
  },
  {
   "cell_type": "markdown",
   "metadata": {
    "id": "vAk17F7MfKuh"
   },
   "source": [
    "## Data exploration\n"
   ]
  },
  {
   "cell_type": "markdown",
   "metadata": {
    "id": "rK72p6vdfacq"
   },
   "source": [
    "### Load data\n"
   ]
  },
  {
   "cell_type": "code",
   "execution_count": 8,
   "metadata": {
    "id": "zaFxDIEfP8Qv"
   },
   "outputs": [],
   "source": [
    "prado = spark.read.options(\n",
    "    header=True,\n",
    "    inferSchema=True,\n",
    "    multiLine=True,\n",
    "    encoding=\"utf-8\",\n",
    "    escape='\"',\n",
    ").csv(DATA_PATH)"
   ]
  },
  {
   "cell_type": "markdown",
   "metadata": {
    "id": "pbYW7-_5fffR"
   },
   "source": [
    "### Inspect data\n"
   ]
  },
  {
   "cell_type": "code",
   "execution_count": 9,
   "metadata": {
    "colab": {
     "base_uri": "https://localhost:8080/"
    },
    "id": "1baXYeoZP7tm",
    "outputId": "b4631b6c-2579-4ee8-d443-ba6daa2612d1"
   },
   "outputs": [
    {
     "name": "stdout",
     "output_type": "stream",
     "text": [
      "+--------------------+--------------------+--------------------+--------------------+--------------------+--------------------+-----------------+--------------------+------------+--------------------+--------------------+----------------------------------+---------------------+----------------------+---------------------+-----------------------+-----------------------+-------------------------+---------------------+---------------------------+--------------------+--------------------+--------------------+--------------------+-----------------------+--------------------------------+-----------------------+--------------------+----------------------+-----------------------------------+\n",
      "|            work_url|      work_image_url|              author|          author_bio|          author_url|           author_id|       work_title|       work_subtitle|work_exposed|    work_description|           work_tags|technical_sheet_numero_de_catalogo|technical_sheet_autor|technical_sheet_titulo|technical_sheet_fecha|technical_sheet_tecnica|technical_sheet_soporte|technical_sheet_dimension|technical_sheet_serie|technical_sheet_procedencia|        bibliography|           inventory|         expositions|           ubication|technical_sheet_autores|technical_sheet_edicion_/_estado|technical_sheet_materia|technical_sheet_ceca|technical_sheet_autora|technical_sheet_lugar_de_produccion|\n",
      "+--------------------+--------------------+--------------------+--------------------+--------------------+--------------------+-----------------+--------------------+------------+--------------------+--------------------+----------------------------------+---------------------+----------------------+---------------------+-----------------------+-----------------------+-------------------------+---------------------+---------------------------+--------------------+--------------------+--------------------+--------------------+-----------------------+--------------------------------+-----------------------+--------------------+----------------------+-----------------------------------+\n",
      "|https://www.museo...|https://content3....|Bayeu y Subías, F...|Zaragoza, 1734 - ...|https://www.museo...|b218fee4-053b-465...|Cabeza de Gigante|1764. Lápiz negro...| No expuesto|De tres cuartos, ...|Serie de dibujos ...|                           D003269| Bayeu y Subías, F...|     Cabeza de Gigante|                 1764|            Lápiz negro|          Papel verdoso|     Alto: 572 mm;\\n\\n...| Serie de dibujos ...|             Colección Real|Arnáez, Rocío,  D...|Inv. Real Museo, ...|[… + escudo] (Sel...|Dibujos de Franci...|                   NULL|                            NULL|                   NULL|                NULL|                  NULL|                               NULL|\n",
      "+--------------------+--------------------+--------------------+--------------------+--------------------+--------------------+-----------------+--------------------+------------+--------------------+--------------------+----------------------------------+---------------------+----------------------+---------------------+-----------------------+-----------------------+-------------------------+---------------------+---------------------------+--------------------+--------------------+--------------------+--------------------+-----------------------+--------------------------------+-----------------------+--------------------+----------------------+-----------------------------------+\n",
      "only showing top 1 row\n",
      "\n"
     ]
    }
   ],
   "source": [
    "# Preview data structure\n",
    "prado.show(1)"
   ]
  },
  {
   "cell_type": "code",
   "execution_count": 10,
   "metadata": {
    "colab": {
     "base_uri": "https://localhost:8080/"
    },
    "id": "Gowh9v1ifuQG",
    "outputId": "8737eb0b-8e98-4822-cec0-74ae32b0917c"
   },
   "outputs": [
    {
     "name": "stdout",
     "output_type": "stream",
     "text": [
      "Num rows:  13487\n",
      "Num unique work urls:  13487\n"
     ]
    }
   ],
   "source": [
    "# Check dimensions and unique work urls\n",
    "print(\"Num rows: \", prado.count())\n",
    "print(\"Num unique work urls: \", prado.select(\"work_url\").distinct().count())"
   ]
  },
  {
   "cell_type": "markdown",
   "metadata": {
    "id": "13Oo1Spufxwh"
   },
   "source": [
    "Comment: Number of unique work URLS equals the number of rows, thus `work_url` can be used as identifier. However, it is too cumbersome, and we should hash it for a more concise representation.\n"
   ]
  },
  {
   "cell_type": "code",
   "execution_count": 11,
   "metadata": {
    "colab": {
     "base_uri": "https://localhost:8080/"
    },
    "id": "DMO5bTSRgYN7",
    "outputId": "fbd15e98-aa53-4c58-c22b-8563f0db437b"
   },
   "outputs": [
    {
     "name": "stdout",
     "output_type": "stream",
     "text": [
      "+-----------+\n",
      "|       node|\n",
      "+-----------+\n",
      "| 2092045149|\n",
      "|  146135401|\n",
      "|-1256791983|\n",
      "+-----------+\n",
      "only showing top 3 rows\n",
      "\n"
     ]
    }
   ],
   "source": [
    "# Create node id by hashing work_url\n",
    "prado = prado.withColumn(\"node\", sf.hash(\"work_url\"))\n",
    "prado.select(\"node\").show(3)"
   ]
  },
  {
   "cell_type": "code",
   "execution_count": 12,
   "metadata": {
    "colab": {
     "base_uri": "https://localhost:8080/"
    },
    "id": "dzyPL0TOgdtC",
    "outputId": "ec648e21-384c-48d8-c563-ad44690584d1"
   },
   "outputs": [
    {
     "name": "stdout",
     "output_type": "stream",
     "text": [
      "+--------------------------------------------------------------------------------------------------------------------------------------------------+\n",
      "|work_tags                                                                                                                                         |\n",
      "+--------------------------------------------------------------------------------------------------------------------------------------------------+\n",
      "|Serie de dibujos para el fresco la Caída de los Gigantes en el Palacio Real de Madrid;Lápiz negro;Papel verdoso;Estudio de cabeza;Mitología;1764;+|\n",
      "|Sanguina;Papel agarbanzado;Desnudo femenino;Profetas de Israel;Susana;1701;+                                                                      |\n",
      "|Óleo;Tabla;Retrato civil;Caléndula / Maravilla (Calendula officinalis);Sombrero;1562;+                                                            |\n",
      "|Óleo;Lienzo;Pescador/es;Peces;1785;González Velázquez, Zacarías;+                                                                                 |\n",
      "|Óleo;Cartón;Escena mortuoria;Retrato de artista;Caballete;Paleta de pintor;+                                                                      |\n",
      "+--------------------------------------------------------------------------------------------------------------------------------------------------+\n",
      "only showing top 5 rows\n",
      "\n"
     ]
    }
   ],
   "source": [
    "# Explore work tags\n",
    "prado.select(\"work_tags\").show(5, truncate=False)"
   ]
  },
  {
   "cell_type": "markdown",
   "metadata": {
    "id": "ESV3FQE1gj1e"
   },
   "source": [
    "Comment: Work tags are separated by semicolons (`;`), and there seems to be an extra `+` sign at the end that needs to be removed.\n"
   ]
  },
  {
   "cell_type": "markdown",
   "metadata": {
    "id": "vVbnm1wCgoSg"
   },
   "source": [
    "Now we clean tags and create a data frame of work-tag pairs, each in a separate row.\n"
   ]
  },
  {
   "cell_type": "code",
   "execution_count": 23,
   "metadata": {
    "colab": {
     "base_uri": "https://localhost:8080/"
    },
    "id": "MxAfdJJwgucb",
    "outputId": "75b10379-967e-4865-f6f2-985ceba62a4c"
   },
   "outputs": [
    {
     "name": "stdout",
     "output_type": "stream",
     "text": [
      "+----------+-------------------------------------------------------------------------------------+\n",
      "|node      |tag                                                                                  |\n",
      "+----------+-------------------------------------------------------------------------------------+\n",
      "|2092045149|serie de dibujos para el fresco la caída de los gigantes en el palacio real de madrid|\n",
      "|2092045149|lápiz negro                                                                          |\n",
      "|2092045149|papel verdoso                                                                        |\n",
      "|2092045149|estudio de cabeza                                                                    |\n",
      "|2092045149|mitología                                                                            |\n",
      "+----------+-------------------------------------------------------------------------------------+\n",
      "only showing top 5 rows\n",
      "\n"
     ]
    }
   ],
   "source": [
    "# Explode and clean tags to make work-tag pairs\n",
    "work_tag = (\n",
    "    prado.withColumn(\"work_tags\", sf.regexp_replace(\"work_tags\", r\";\\+$\", \"\"))\n",
    "    .withColumn(\"work_tags\", sf.split(\"work_tags\", \";\"))\n",
    "    .withColumn(\"tag\", sf.explode(\"work_tags\"))\n",
    "    .withColumn(\"tag\", sf.trim(\"tag\"))\n",
    "    .withColumn(\"tag\", sf.lower(sf.col(\"tag\")))\n",
    "    .select(\"node\", \"tag\")\n",
    ")\n",
    "\n",
    "work_tag.show(5, False)"
   ]
  },
  {
   "cell_type": "code",
   "execution_count": 24,
   "metadata": {
    "colab": {
     "base_uri": "https://localhost:8080/"
    },
    "id": "7jzTuKJDgyuT",
    "outputId": "9710ce26-1de3-4b80-d804-b2a4181e1c7d"
   },
   "outputs": [
    {
     "name": "stdout",
     "output_type": "stream",
     "text": [
      "Num unique works:  13487\n",
      "Num unique tags:  3545\n"
     ]
    }
   ],
   "source": [
    "# Count unique works and tags\n",
    "print(\"Num unique works: \", work_tag.select(\"node\").distinct().count())\n",
    "print(\"Num unique tags: \", work_tag.select(\"tag\").distinct().count())"
   ]
  },
  {
   "cell_type": "markdown",
   "metadata": {
    "id": "dFOPw5BFg0fw"
   },
   "source": [
    "Explore tag distribution\n"
   ]
  },
  {
   "cell_type": "code",
   "execution_count": 25,
   "metadata": {
    "colab": {
     "base_uri": "https://localhost:8080/"
    },
    "id": "b4CgVcrig6NY",
    "outputId": "ae8ad594-0e9b-4f8b-bfc7-be4a149801b8"
   },
   "outputs": [
    {
     "name": "stdout",
     "output_type": "stream",
     "text": [
      "Top 5 tags with most works\n",
      "+---------------+-------+\n",
      "|tag            |n_works|\n",
      "+---------------+-------+\n",
      "|óleo           |4177   |\n",
      "|lienzo         |3225   |\n",
      "|pluma          |1923   |\n",
      "|papel verjurado|1477   |\n",
      "|lápiz negro    |1248   |\n",
      "+---------------+-------+\n",
      "only showing top 5 rows\n",
      "\n",
      "Top 5 tags with least works\n",
      "+--------------------+-------+\n",
      "|tag                 |n_works|\n",
      "+--------------------+-------+\n",
      "|pérez rubio, antonio|1      |\n",
      "|1512                |1      |\n",
      "|taller ático        |1      |\n",
      "|-4                  |1      |\n",
      "|1572                |1      |\n",
      "+--------------------+-------+\n",
      "only showing top 5 rows\n",
      "\n"
     ]
    }
   ],
   "source": [
    "tag_dist = work_tag.groupBy(\"tag\").agg(sf.count(\"node\").alias(\"n_works\"))\n",
    "\n",
    "# Top 5 tags with most works\n",
    "print(\"Top 5 tags with most works\")\n",
    "tag_dist.orderBy(sf.desc(\"n_works\")).show(5, False)\n",
    "\n",
    "# Top 5 tags with least works\n",
    "print(\"Top 5 tags with least works\")\n",
    "tag_dist.orderBy(sf.asc(\"n_works\")).show(5, False)"
   ]
  },
  {
   "cell_type": "markdown",
   "metadata": {
    "id": "ocaP4FI-g-VU"
   },
   "source": [
    "Comment: There are tags shared by many works, which is expected since they are popular keywords in art, such as Óleo (Oil), Lienzo (Canvas), Pluma (Pen), etc.\n"
   ]
  },
  {
   "cell_type": "markdown",
   "metadata": {
    "id": "8b1-bvFGhAZJ"
   },
   "source": [
    "Explore artwork distribution\n"
   ]
  },
  {
   "cell_type": "code",
   "execution_count": 26,
   "metadata": {
    "colab": {
     "base_uri": "https://localhost:8080/"
    },
    "id": "pzUi-zQ4hD7P",
    "outputId": "e4174da6-44f1-41a7-8fa4-86a21532f253"
   },
   "outputs": [
    {
     "name": "stdout",
     "output_type": "stream",
     "text": [
      "Top 5 works with most tags\n",
      "+-----------+------+\n",
      "|node       |n_tags|\n",
      "+-----------+------+\n",
      "|-1094470655|7     |\n",
      "|1928626632 |7     |\n",
      "|1901392218 |7     |\n",
      "|-320645666 |7     |\n",
      "|-1027224108|7     |\n",
      "+-----------+------+\n",
      "only showing top 5 rows\n",
      "\n",
      "Top 5 works with least tags\n",
      "+-----------+------+\n",
      "|node       |n_tags|\n",
      "+-----------+------+\n",
      "|-2034788158|4     |\n",
      "|151895471  |4     |\n",
      "|447748375  |4     |\n",
      "|-316059076 |4     |\n",
      "|928859623  |4     |\n",
      "+-----------+------+\n",
      "only showing top 5 rows\n",
      "\n"
     ]
    }
   ],
   "source": [
    "work_dist = work_tag.groupBy(\"node\").agg(sf.count(\"tag\").alias(\"n_tags\"))\n",
    "\n",
    "# Top 5 works with most tags\n",
    "print(\"Top 5 works with most tags\")\n",
    "work_dist.orderBy(sf.desc(\"n_tags\")).show(5, False)\n",
    "\n",
    "# Top 5 works with least tags\n",
    "print(\"Top 5 works with least tags\")\n",
    "work_dist.orderBy(sf.asc(\"n_tags\")).show(5, False)"
   ]
  },
  {
   "cell_type": "markdown",
   "metadata": {
    "id": "NfamtkL5hJTi"
   },
   "source": [
    "Comment: This seems reasonable, as the number of tags per work is not too high (ranging from 4 to 7 tags per work).\n"
   ]
  },
  {
   "cell_type": "markdown",
   "metadata": {
    "id": "qakGKZNORI0L"
   },
   "source": [
    "## Functions\n"
   ]
  },
  {
   "cell_type": "markdown",
   "metadata": {
    "id": "FUK9UH7whYpV"
   },
   "source": [
    "Based on previous analysis, we can define several functions to clean and extract relevant data for our analysis. We also implement a function to compute the PageRank of the nodes in the artwork network.\n"
   ]
  },
  {
   "cell_type": "code",
   "execution_count": 27,
   "metadata": {
    "id": "EEQ2kVQFUAbC"
   },
   "outputs": [],
   "source": [
    "def load_csv(spark, data_path, test_rows=None):\n",
    "    \"\"\"\n",
    "    Load data from a csv file.\n",
    "    Returns a DataFrame.\n",
    "    \"\"\"\n",
    "    # Load data\n",
    "    df = spark.read.options(\n",
    "        header=True,\n",
    "        inferSchema=True,\n",
    "        multiLine=True,\n",
    "        encoding=\"utf-8\",\n",
    "        escape='\"',\n",
    "    ).csv(data_path)\n",
    "\n",
    "    # Rename work_url to id\n",
    "    df = df.withColumn(\"node\", sf.hash(\"work_url\"))\n",
    "\n",
    "    # Limit number of rows for testing\n",
    "    if test_rows:\n",
    "        df = df.limit(test_rows)\n",
    "\n",
    "    return df"
   ]
  },
  {
   "cell_type": "code",
   "execution_count": 28,
   "metadata": {
    "id": "a2CYC_hgUB_p"
   },
   "outputs": [],
   "source": [
    "def create_work_tag_pairs(df):\n",
    "    \"\"\"\n",
    "    Create work-tag pairs by splitting and cleaning work tags from a DataFrame.\n",
    "    Returns a DataFrame with columns 'id' and 'tag' containing unique work-tag pairs.\n",
    "    \"\"\"\n",
    "    # Remove ';+' at the end of the string and split by ';'\n",
    "    # then explode work tags and trim whitespaces\n",
    "    df = (\n",
    "        df.withColumn(\"work_tags\", sf.regexp_replace(\"work_tags\", r\";\\+$\", \"\"))\n",
    "        .withColumn(\"work_tags\", sf.split(\"work_tags\", \";\"))\n",
    "        .withColumn(\"tag\", sf.explode(\"work_tags\"))\n",
    "        .withColumn(\"tag\", sf.expr(\"lower(trim(tag))\"))\n",
    "    )\n",
    "\n",
    "    # Select relevant columns, remove duplicates, and return\n",
    "    return df.select(\"node\", \"tag\").distinct()"
   ]
  },
  {
   "cell_type": "code",
   "execution_count": 29,
   "metadata": {
    "id": "LTHX96KoURka"
   },
   "outputs": [],
   "source": [
    "def create_edge_list(df, node_col, attr_col):\n",
    "    \"\"\"\n",
    "    Create an edge list of node-node pairs based on a shared attribute.\n",
    "    Returns a DataFrame with columns 'src' and 'dst' representing unique node pairs.\n",
    "    \"\"\"\n",
    "    # Create source and destination data frames\n",
    "    src_df = df.select(sf.col(node_col).alias(\"src\"), sf.col(attr_col).alias(\"attr\"))\n",
    "    dst_df = df.select(sf.col(node_col).alias(\"dst\"), sf.col(attr_col).alias(\"attr\"))\n",
    "\n",
    "    # Join on shared attribute column and remove self loops (src != dst)\n",
    "    edge_list = (\n",
    "        src_df.join(dst_df, on=\"attr\", how=\"inner\")\n",
    "        .where(sf.col(\"src\") != sf.col(\"dst\"))\n",
    "        .select(\"src\", \"dst\")\n",
    "        .distinct()\n",
    "    )\n",
    "\n",
    "    return edge_list"
   ]
  },
  {
   "cell_type": "code",
   "execution_count": 30,
   "metadata": {
    "id": "t3Q5vIO2US-P"
   },
   "outputs": [],
   "source": [
    "def compute_pagerank(\n",
    "    nodes,\n",
    "    edges,\n",
    "    topic_nodes=None,\n",
    "    max_iter=10,\n",
    "    beta=0.85,\n",
    "    tol=1e-4,\n",
    "    verbose=True,\n",
    "):\n",
    "    \"\"\"\n",
    "    Compute PageRank scores for nodes in a graph.\n",
    "\n",
    "    Args:\n",
    "        nodes: node data frame with two column `src` (id of node) and `out_deg`\n",
    "        (out-degree of node)\n",
    "        edges: edge data frame with two column `src` (source node id) and `dst`\n",
    "        (destination node id)\n",
    "        max_iter: maximum number of iterations\n",
    "        beta: damping factor\n",
    "        tol: convergence threshold\n",
    "        verbose: print progress\n",
    "\n",
    "    Returns:\n",
    "        A data frame with columns `node` and `rank` sorted by rank in descending order\n",
    "    \"\"\"\n",
    "    # Init\n",
    "    n = nodes.count()\n",
    "    pr = nodes.withColumn(\"rank\", sf.lit(1 / n)).select(\"node\", \"rank\")\n",
    "    if topic_nodes is not None:\n",
    "        n_topic = topic_nodes.count()\n",
    "\n",
    "    # Iterate to update ranks\n",
    "    deltas = []\n",
    "    for i in range(max_iter):\n",
    "        # Compute contribution of each node to its neighbors\n",
    "        # Nodes with no out-degree will have contrib zero\n",
    "        contrib = (\n",
    "            nodes.join(pr, on=\"node\", how=\"inner\")\n",
    "            .withColumn(\"contrib\", sf.expr(\"rank / out_deg\"))\n",
    "            .selectExpr(\"node as src\", \"contrib\")\n",
    "            .fillna(0)\n",
    "        )\n",
    "\n",
    "        # Update ranks for nodes that have incoming edges\n",
    "        pr_new = (\n",
    "            edges.join(contrib, on=\"src\", how=\"inner\")\n",
    "            .groupBy(\"dst\")\n",
    "            .agg(sf.sum(\"contrib\").alias(\"rank_new\"))\n",
    "            .selectExpr(\"dst as node\", \"rank_new\")\n",
    "        )\n",
    "\n",
    "        # Add nodes with no incoming edges with zero rank\n",
    "        pr_new = (\n",
    "            nodes.join(pr_new, on=\"node\", how=\"left\")\n",
    "            .select(\"node\", \"rank_new\")\n",
    "            .fillna(0)\n",
    "        )\n",
    "\n",
    "        # Re-distribute rank leakage uniformly to all nodes\n",
    "        leakage = max(1 - pr_new.agg(sf.sum(\"rank_new\")).collect()[0][0], 0)\n",
    "        pr_new = pr_new.withColumn(\"rank_new\", sf.col(\"rank_new\") + leakage / n)\n",
    "\n",
    "        # Update ranks with teleportation\n",
    "        if topic_nodes is None:\n",
    "            pr_new = pr_new.withColumn(\n",
    "                \"rank_new\", beta * sf.col(\"rank_new\") + (1 - beta) / n\n",
    "            )\n",
    "        else:\n",
    "            pr_new = pr_new.join(\n",
    "                sf.broadcast(topic_nodes), on=\"node\", how=\"left\"\n",
    "            ).withColumn(\n",
    "                \"rank_new\",\n",
    "                beta * sf.col(\"rank_new\")\n",
    "                + (1 - beta)\n",
    "                * sf.when(sf.col(\"rank_new\").isNotNull(), 1 / n_topic).otherwise(0),\n",
    "            )\n",
    "\n",
    "        # Compute L2 norm of old and new rank differences\n",
    "        delta = (\n",
    "            pr.join(pr_new, on=\"node\")\n",
    "            .agg(sf.expr(\"sqrt(sum(pow(rank - rank_new, 2)))\"))\n",
    "            .collect()[0][0]\n",
    "        )\n",
    "        delta = round(delta, 6)\n",
    "        deltas.append(delta)\n",
    "\n",
    "        # Print progress\n",
    "        if verbose:\n",
    "            print(f\"Iteration {i + 1}, delta={delta}\")\n",
    "\n",
    "        # Update ranks\n",
    "        pr = pr_new.withColumnRenamed(\"rank_new\", \"rank\")\n",
    "\n",
    "        # Check convergence\n",
    "        if delta < tol:\n",
    "            break\n",
    "\n",
    "    return pr.orderBy(sf.desc(\"rank\")), deltas"
   ]
  },
  {
   "cell_type": "code",
   "execution_count": 31,
   "metadata": {
    "id": "3PAMCUOwUUBz"
   },
   "outputs": [],
   "source": [
    "def plot_convergence(deltas, figsize=(7, 4), save_path=None, show=True):\n",
    "    \"\"\"\n",
    "    Plot the convergence of PageRank scores.\n",
    "    \"\"\"\n",
    "    fig, ax = plt.subplots(figsize=figsize)\n",
    "    ax.plot(deltas, marker=\"o\")\n",
    "    ax.set_xlabel(\"Iteration\")\n",
    "    ax.set_ylabel(\"L2-norm of rank difference\")\n",
    "    ax.set_title(\"PageRank convergence\")\n",
    "    plt.grid(True)\n",
    "    plt.tight_layout()\n",
    "\n",
    "    if save_path:\n",
    "        plt.savefig(save_path, dpi=300)\n",
    "\n",
    "    if show:\n",
    "        plt.show()"
   ]
  },
  {
   "cell_type": "markdown",
   "metadata": {
    "id": "zK7oH09dUVc3"
   },
   "source": [
    "## Experiments\n"
   ]
  },
  {
   "cell_type": "markdown",
   "metadata": {
    "id": "tSW77eWpThxr"
   },
   "source": [
    "Step 0: Config\n"
   ]
  },
  {
   "cell_type": "code",
   "execution_count": 38,
   "metadata": {
    "id": "fEhpsKJZTkpl"
   },
   "outputs": [],
   "source": [
    "TEST_ROWS = 1_000\n",
    "BETA = 0.85\n",
    "MAX_ITER = 20\n",
    "TOL = 1e-4"
   ]
  },
  {
   "cell_type": "markdown",
   "metadata": {
    "id": "Jh9n4nA9Uum7"
   },
   "source": [
    "Step 1: Load original data\n"
   ]
  },
  {
   "cell_type": "code",
   "execution_count": 39,
   "metadata": {
    "id": "LdG0gX71UYrZ"
   },
   "outputs": [],
   "source": [
    "data = load_csv(spark, DATA_PATH, test_rows=TEST_ROWS)"
   ]
  },
  {
   "cell_type": "markdown",
   "metadata": {
    "id": "8PsZur3VUydO"
   },
   "source": [
    "Step 2: Create work-tag pairs.\n"
   ]
  },
  {
   "cell_type": "code",
   "execution_count": 40,
   "metadata": {
    "colab": {
     "base_uri": "https://localhost:8080/"
    },
    "id": "LnRwuKa0U2Rp",
    "outputId": "527af1a7-5550-4155-f94d-984f4f786d90"
   },
   "outputs": [
    {
     "name": "stdout",
     "output_type": "stream",
     "text": [
      "+----------+--------------------+\n",
      "|      node|                 tag|\n",
      "+----------+--------------------+\n",
      "|2092045149|serie de dibujos ...|\n",
      "+----------+--------------------+\n",
      "only showing top 1 row\n",
      "\n"
     ]
    }
   ],
   "source": [
    "# Prepare work:tag pairs\n",
    "work_tag = create_work_tag_pairs(data)\n",
    "work_tag.show(1)"
   ]
  },
  {
   "cell_type": "markdown",
   "metadata": {
    "id": "8k8r4n7AU9ij"
   },
   "source": [
    "Step 3: Create (and cache) data frame of edges of work-work pairs.\n"
   ]
  },
  {
   "cell_type": "code",
   "execution_count": 41,
   "metadata": {
    "colab": {
     "base_uri": "https://localhost:8080/"
    },
    "id": "mpE-h-k9U64I",
    "outputId": "31a6d796-32a0-43b9-a23c-da3bf6445b89"
   },
   "outputs": [
    {
     "name": "stdout",
     "output_type": "stream",
     "text": [
      "205388\n",
      "+----------+-----------+\n",
      "|       src|        dst|\n",
      "+----------+-----------+\n",
      "|2092045149|-1145844827|\n",
      "+----------+-----------+\n",
      "only showing top 1 row\n",
      "\n"
     ]
    }
   ],
   "source": [
    "if \"edges\" in locals():\n",
    "    locals()[\"edges\"].unpersist()\n",
    "\n",
    "edges = create_edge_list(work_tag, node_col=\"node\", attr_col=\"tag\").cache()\n",
    "\n",
    "print(edges.count())\n",
    "edges.show(1)"
   ]
  },
  {
   "cell_type": "markdown",
   "metadata": {
    "id": "Mer03OrQVD1Q"
   },
   "source": [
    "Step 4: Create (and cache) data frame of all nodes with out-degrees\n"
   ]
  },
  {
   "cell_type": "code",
   "execution_count": 42,
   "metadata": {
    "colab": {
     "base_uri": "https://localhost:8080/"
    },
    "id": "3Ext9_B2VCVl",
    "outputId": "b30fea55-feaa-4c60-c101-732fab4cf8c5"
   },
   "outputs": [
    {
     "name": "stdout",
     "output_type": "stream",
     "text": [
      "1000\n",
      "+----------+-------+\n",
      "|      node|out_deg|\n",
      "+----------+-------+\n",
      "|2092045149|    131|\n",
      "+----------+-------+\n",
      "only showing top 1 row\n",
      "\n"
     ]
    }
   ],
   "source": [
    "# Get all nodes\n",
    "if \"nodes\" in locals():\n",
    "    locals()[\"nodes\"].unpersist()\n",
    "\n",
    "nodes = (\n",
    "    data.select(\"node\")\n",
    "    .join(edges.withColumnRenamed(\"src\", \"node\"), on=\"node\", how=\"left\")\n",
    "    .groupBy(\"node\")\n",
    "    .agg(sf.count(\"dst\").alias(\"out_deg\"))\n",
    "    .cache()\n",
    ")\n",
    "\n",
    "print(nodes.count())\n",
    "nodes.show(1)"
   ]
  },
  {
   "cell_type": "markdown",
   "metadata": {
    "id": "nr1zw9nIVQRy"
   },
   "source": [
    "Step 5: Compute general PageRank scores\n"
   ]
  },
  {
   "cell_type": "code",
   "execution_count": 43,
   "metadata": {
    "colab": {
     "base_uri": "https://localhost:8080/"
    },
    "id": "55Bzff9fVSlr",
    "outputId": "7b0d39fe-ab28-410e-b8ee-6de2ff6c3abc"
   },
   "outputs": [
    {
     "name": "stdout",
     "output_type": "stream",
     "text": [
      "Iteration 1, delta=0.00697\n",
      "Iteration 2, delta=0.002105\n",
      "Iteration 3, delta=0.001094\n",
      "Iteration 4, delta=0.000683\n",
      "Iteration 5, delta=0.000463\n",
      "Iteration 6, delta=0.000328\n",
      "Iteration 7, delta=0.000238\n",
      "Iteration 8, delta=0.000176\n",
      "Iteration 9, delta=0.000131\n",
      "Iteration 10, delta=9.8e-05\n"
     ]
    }
   ],
   "source": [
    "pr, deltas = compute_pagerank(\n",
    "    nodes,\n",
    "    edges,\n",
    "    topic_nodes=None,\n",
    "    max_iter=MAX_ITER,\n",
    "    beta=BETA,\n",
    "    tol=TOL,\n",
    "    verbose=True,\n",
    ")"
   ]
  },
  {
   "cell_type": "markdown",
   "metadata": {
    "id": "rfYK-d4ZVucy"
   },
   "source": [
    "Step 6: Compute topic-specific PageRank scores for two example tags: `óleo`and `pluma`.\n"
   ]
  },
  {
   "cell_type": "code",
   "execution_count": 53,
   "metadata": {
    "colab": {
     "base_uri": "https://localhost:8080/"
    },
    "id": "M5RysrTTVyH0",
    "outputId": "bd66ce65-c167-4904-eefe-4fd146891984"
   },
   "outputs": [
    {
     "name": "stdout",
     "output_type": "stream",
     "text": [
      "\n",
      "Topic: óleo, Num nodes: 328\n",
      "Iteration 1, delta=0.011959\n",
      "Iteration 2, delta=0.009007\n",
      "Iteration 3, delta=0.007631\n",
      "Iteration 4, delta=0.006497\n",
      "Iteration 5, delta=0.00554\n",
      "Iteration 6, delta=0.004725\n",
      "Iteration 7, delta=0.004031\n",
      "Iteration 8, delta=0.003437\n",
      "Iteration 9, delta=0.002931\n",
      "Iteration 10, delta=0.002498\n",
      "Iteration 11, delta=0.002129\n",
      "Iteration 12, delta=0.001814\n",
      "Iteration 13, delta=0.001545\n",
      "Iteration 14, delta=0.001316\n",
      "Iteration 15, delta=0.00112\n",
      "Iteration 16, delta=0.000954\n",
      "Iteration 17, delta=0.000812\n",
      "Iteration 18, delta=0.000691\n",
      "Iteration 19, delta=0.000588\n",
      "Iteration 20, delta=0.0005\n",
      "\n",
      "Topic: pluma, Num nodes: 133\n",
      "Iteration 1, delta=0.031697\n",
      "Iteration 2, delta=0.027459\n",
      "Iteration 3, delta=0.023618\n",
      "Iteration 4, delta=0.020262\n",
      "Iteration 5, delta=0.017352\n",
      "Iteration 6, delta=0.014842\n",
      "Iteration 7, delta=0.012684\n",
      "Iteration 8, delta=0.010832\n",
      "Iteration 9, delta=0.009246\n",
      "Iteration 10, delta=0.007889\n",
      "Iteration 11, delta=0.006728\n",
      "Iteration 12, delta=0.005736\n",
      "Iteration 13, delta=0.004889\n",
      "Iteration 14, delta=0.004166\n",
      "Iteration 15, delta=0.003549\n",
      "Iteration 16, delta=0.003023\n",
      "Iteration 17, delta=0.002574\n",
      "Iteration 18, delta=0.002192\n",
      "Iteration 19, delta=0.001866\n",
      "Iteration 20, delta=0.001588\n"
     ]
    }
   ],
   "source": [
    "topics = [\n",
    "    \"óleo\",  # oil\n",
    "    \"pluma\",  # feather\n",
    "]\n",
    "\n",
    "prts_dict = {}\n",
    "delta_dict = {}\n",
    "for tag in topics:\n",
    "    topic_nodes = work_tag.where(f\"tag = '{tag}'\").select(\"node\")\n",
    "    print(f\"\"\"\\nTopic: {tag}, Num nodes: {topic_nodes.count()}\"\"\")\n",
    "\n",
    "    p, d = compute_pagerank(\n",
    "        nodes,\n",
    "        edges,\n",
    "        topic_nodes=topic_nodes,\n",
    "        max_iter=MAX_ITER,\n",
    "        beta=BETA,\n",
    "        tol=TOL,\n",
    "        verbose=True,\n",
    "    )\n",
    "\n",
    "    prts_dict[tag] = p\n",
    "    delta_dict[tag] = d"
   ]
  },
  {
   "cell_type": "markdown",
   "metadata": {
    "id": "h9OdQ6N5WeZF"
   },
   "source": [
    "Step 7: Convert PageRank scores to Pandas and combine them for further analysis.\n"
   ]
  },
  {
   "cell_type": "code",
   "execution_count": 54,
   "metadata": {
    "colab": {
     "base_uri": "https://localhost:8080/",
     "height": 81
    },
    "id": "iqTgePY0iLxz",
    "outputId": "eb8a440c-0bf0-4469-9662-29cf9ee99514"
   },
   "outputs": [
    {
     "data": {
      "application/vnd.google.colaboratory.intrinsic+json": {
       "summary": "{\n  \"name\": \"pr_all\",\n  \"rows\": 1000,\n  \"fields\": [\n    {\n      \"column\": \"node\",\n      \"properties\": {\n        \"dtype\": \"int32\",\n        \"num_unique_values\": 1000,\n        \"samples\": [\n          450488305,\n          437199135,\n          -347126415\n        ],\n        \"semantic_type\": \"\",\n        \"description\": \"\"\n      }\n    },\n    {\n      \"column\": \"pr\",\n      \"properties\": {\n        \"dtype\": \"number\",\n        \"std\": 0.00031645503696603927,\n        \"min\": 0.00016132805960853642,\n        \"max\": 0.0018473009539116886,\n        \"num_unique_values\": 879,\n        \"samples\": [\n          0.001204972057648181,\n          0.001249558817849335,\n          0.0005161150827856962\n        ],\n        \"semantic_type\": \"\",\n        \"description\": \"\"\n      }\n    },\n    {\n      \"column\": \"prts_oleo\",\n      \"properties\": {\n        \"dtype\": \"number\",\n        \"std\": 0.0009377314885116411,\n        \"min\": 0.0004907935468344706,\n        \"max\": 0.005442264586202077,\n        \"num_unique_values\": 877,\n        \"samples\": [\n          0.0019522010253883982,\n          0.001851106681736658,\n          0.0037234257774951423\n        ],\n        \"semantic_type\": \"\",\n        \"description\": \"\"\n      }\n    },\n    {\n      \"column\": \"prts_pluma\",\n      \"properties\": {\n        \"dtype\": \"number\",\n        \"std\": 0.0022845873395935397,\n        \"min\": 0.0012095543610252352,\n        \"max\": 0.013322382059792678,\n        \"num_unique_values\": 877,\n        \"samples\": [\n          0.004785551555168095,\n          0.00453867295045221,\n          0.009093000093390959\n        ],\n        \"semantic_type\": \"\",\n        \"description\": \"\"\n      }\n    }\n  ]\n}",
       "type": "dataframe",
       "variable_name": "pr_all"
      },
      "text/html": [
       "\n",
       "  <div id=\"df-c5b0e3a2-713d-4c01-b5a7-bcef5321df22\" class=\"colab-df-container\">\n",
       "    <div>\n",
       "<style scoped>\n",
       "    .dataframe tbody tr th:only-of-type {\n",
       "        vertical-align: middle;\n",
       "    }\n",
       "\n",
       "    .dataframe tbody tr th {\n",
       "        vertical-align: top;\n",
       "    }\n",
       "\n",
       "    .dataframe thead th {\n",
       "        text-align: right;\n",
       "    }\n",
       "</style>\n",
       "<table border=\"1\" class=\"dataframe\">\n",
       "  <thead>\n",
       "    <tr style=\"text-align: right;\">\n",
       "      <th></th>\n",
       "      <th>node</th>\n",
       "      <th>pr</th>\n",
       "      <th>prts_oleo</th>\n",
       "      <th>prts_pluma</th>\n",
       "    </tr>\n",
       "  </thead>\n",
       "  <tbody>\n",
       "    <tr>\n",
       "      <th>0</th>\n",
       "      <td>-734415877</td>\n",
       "      <td>0.001847</td>\n",
       "      <td>0.005442</td>\n",
       "      <td>0.013322</td>\n",
       "    </tr>\n",
       "  </tbody>\n",
       "</table>\n",
       "</div>\n",
       "    <div class=\"colab-df-buttons\">\n",
       "\n",
       "  <div class=\"colab-df-container\">\n",
       "    <button class=\"colab-df-convert\" onclick=\"convertToInteractive('df-c5b0e3a2-713d-4c01-b5a7-bcef5321df22')\"\n",
       "            title=\"Convert this dataframe to an interactive table.\"\n",
       "            style=\"display:none;\">\n",
       "\n",
       "  <svg xmlns=\"http://www.w3.org/2000/svg\" height=\"24px\" viewBox=\"0 -960 960 960\">\n",
       "    <path d=\"M120-120v-720h720v720H120Zm60-500h600v-160H180v160Zm220 220h160v-160H400v160Zm0 220h160v-160H400v160ZM180-400h160v-160H180v160Zm440 0h160v-160H620v160ZM180-180h160v-160H180v160Zm440 0h160v-160H620v160Z\"/>\n",
       "  </svg>\n",
       "    </button>\n",
       "\n",
       "  <style>\n",
       "    .colab-df-container {\n",
       "      display:flex;\n",
       "      gap: 12px;\n",
       "    }\n",
       "\n",
       "    .colab-df-convert {\n",
       "      background-color: #E8F0FE;\n",
       "      border: none;\n",
       "      border-radius: 50%;\n",
       "      cursor: pointer;\n",
       "      display: none;\n",
       "      fill: #1967D2;\n",
       "      height: 32px;\n",
       "      padding: 0 0 0 0;\n",
       "      width: 32px;\n",
       "    }\n",
       "\n",
       "    .colab-df-convert:hover {\n",
       "      background-color: #E2EBFA;\n",
       "      box-shadow: 0px 1px 2px rgba(60, 64, 67, 0.3), 0px 1px 3px 1px rgba(60, 64, 67, 0.15);\n",
       "      fill: #174EA6;\n",
       "    }\n",
       "\n",
       "    .colab-df-buttons div {\n",
       "      margin-bottom: 4px;\n",
       "    }\n",
       "\n",
       "    [theme=dark] .colab-df-convert {\n",
       "      background-color: #3B4455;\n",
       "      fill: #D2E3FC;\n",
       "    }\n",
       "\n",
       "    [theme=dark] .colab-df-convert:hover {\n",
       "      background-color: #434B5C;\n",
       "      box-shadow: 0px 1px 3px 1px rgba(0, 0, 0, 0.15);\n",
       "      filter: drop-shadow(0px 1px 2px rgba(0, 0, 0, 0.3));\n",
       "      fill: #FFFFFF;\n",
       "    }\n",
       "  </style>\n",
       "\n",
       "    <script>\n",
       "      const buttonEl =\n",
       "        document.querySelector('#df-c5b0e3a2-713d-4c01-b5a7-bcef5321df22 button.colab-df-convert');\n",
       "      buttonEl.style.display =\n",
       "        google.colab.kernel.accessAllowed ? 'block' : 'none';\n",
       "\n",
       "      async function convertToInteractive(key) {\n",
       "        const element = document.querySelector('#df-c5b0e3a2-713d-4c01-b5a7-bcef5321df22');\n",
       "        const dataTable =\n",
       "          await google.colab.kernel.invokeFunction('convertToInteractive',\n",
       "                                                    [key], {});\n",
       "        if (!dataTable) return;\n",
       "\n",
       "        const docLinkHtml = 'Like what you see? Visit the ' +\n",
       "          '<a target=\"_blank\" href=https://colab.research.google.com/notebooks/data_table.ipynb>data table notebook</a>'\n",
       "          + ' to learn more about interactive tables.';\n",
       "        element.innerHTML = '';\n",
       "        dataTable['output_type'] = 'display_data';\n",
       "        await google.colab.output.renderOutput(dataTable, element);\n",
       "        const docLink = document.createElement('div');\n",
       "        docLink.innerHTML = docLinkHtml;\n",
       "        element.appendChild(docLink);\n",
       "      }\n",
       "    </script>\n",
       "  </div>\n",
       "\n",
       "\n",
       "    </div>\n",
       "  </div>\n"
      ],
      "text/plain": [
       "        node        pr  prts_oleo  prts_pluma\n",
       "0 -734415877  0.001847   0.005442    0.013322"
      ]
     },
     "execution_count": 54,
     "metadata": {},
     "output_type": "execute_result"
    }
   ],
   "source": [
    "df_list = [\n",
    "    pr.withColumnRenamed(\"rank\", \"pr\").toPandas(),\n",
    "    prts_dict[\"óleo\"].withColumnRenamed(\"rank\", \"prts_oleo\").toPandas(),\n",
    "    prts_dict[\"pluma\"].withColumnRenamed(\"rank\", \"prts_pluma\").toPandas(),\n",
    "]\n",
    "\n",
    "pr_all = df_list[0].copy()\n",
    "for df in df_list[1:]:\n",
    "    pr_all = pr_all.merge(df, on=\"node\")\n",
    "\n",
    "pr_all.head(1)"
   ]
  },
  {
   "cell_type": "markdown",
   "metadata": {
    "id": "md2gFHG8nzkz"
   },
   "source": [
    "Step 8: Combine deltas for further analysis.\n"
   ]
  },
  {
   "cell_type": "code",
   "execution_count": 55,
   "metadata": {
    "colab": {
     "base_uri": "https://localhost:8080/",
     "height": 81
    },
    "id": "ODgBDSB3n1lK",
    "outputId": "576de5a7-c6a2-4259-d506-bbb48435016e"
   },
   "outputs": [
    {
     "data": {
      "application/vnd.google.colaboratory.intrinsic+json": {
       "summary": "{\n  \"name\": \"delta_all\",\n  \"rows\": 20,\n  \"fields\": [\n    {\n      \"column\": \"iteration\",\n      \"properties\": {\n        \"dtype\": \"number\",\n        \"std\": 5,\n        \"min\": 0,\n        \"max\": 19,\n        \"num_unique_values\": 20,\n        \"samples\": [\n          0,\n          17,\n          15\n        ],\n        \"semantic_type\": \"\",\n        \"description\": \"\"\n      }\n    },\n    {\n      \"column\": \"pr\",\n      \"properties\": {\n        \"dtype\": \"number\",\n        \"std\": 0.0021086332698377563,\n        \"min\": 9.8e-05,\n        \"max\": 0.00697,\n        \"num_unique_values\": 10,\n        \"samples\": [\n          0.000131,\n          0.002105,\n          0.000328\n        ],\n        \"semantic_type\": \"\",\n        \"description\": \"\"\n      }\n    },\n    {\n      \"column\": \"prts_oleo\",\n      \"properties\": {\n        \"dtype\": \"number\",\n        \"std\": 0.0031892685331147315,\n        \"min\": 0.0005,\n        \"max\": 0.011959,\n        \"num_unique_values\": 20,\n        \"samples\": [\n          0.011959,\n          0.000691,\n          0.000954\n        ],\n        \"semantic_type\": \"\",\n        \"description\": \"\"\n      }\n    },\n    {\n      \"column\": \"prts_pluma\",\n      \"properties\": {\n        \"dtype\": \"number\",\n        \"std\": 0.009123982644945306,\n        \"min\": 0.001588,\n        \"max\": 0.031697,\n        \"num_unique_values\": 20,\n        \"samples\": [\n          0.031697,\n          0.002192,\n          0.003023\n        ],\n        \"semantic_type\": \"\",\n        \"description\": \"\"\n      }\n    }\n  ]\n}",
       "type": "dataframe",
       "variable_name": "delta_all"
      },
      "text/html": [
       "\n",
       "  <div id=\"df-4151e701-bdc6-45f7-996b-7fd69af7d62c\" class=\"colab-df-container\">\n",
       "    <div>\n",
       "<style scoped>\n",
       "    .dataframe tbody tr th:only-of-type {\n",
       "        vertical-align: middle;\n",
       "    }\n",
       "\n",
       "    .dataframe tbody tr th {\n",
       "        vertical-align: top;\n",
       "    }\n",
       "\n",
       "    .dataframe thead th {\n",
       "        text-align: right;\n",
       "    }\n",
       "</style>\n",
       "<table border=\"1\" class=\"dataframe\">\n",
       "  <thead>\n",
       "    <tr style=\"text-align: right;\">\n",
       "      <th></th>\n",
       "      <th>iteration</th>\n",
       "      <th>pr</th>\n",
       "      <th>prts_oleo</th>\n",
       "      <th>prts_pluma</th>\n",
       "    </tr>\n",
       "  </thead>\n",
       "  <tbody>\n",
       "    <tr>\n",
       "      <th>0</th>\n",
       "      <td>0</td>\n",
       "      <td>0.00697</td>\n",
       "      <td>0.011959</td>\n",
       "      <td>0.031697</td>\n",
       "    </tr>\n",
       "  </tbody>\n",
       "</table>\n",
       "</div>\n",
       "    <div class=\"colab-df-buttons\">\n",
       "\n",
       "  <div class=\"colab-df-container\">\n",
       "    <button class=\"colab-df-convert\" onclick=\"convertToInteractive('df-4151e701-bdc6-45f7-996b-7fd69af7d62c')\"\n",
       "            title=\"Convert this dataframe to an interactive table.\"\n",
       "            style=\"display:none;\">\n",
       "\n",
       "  <svg xmlns=\"http://www.w3.org/2000/svg\" height=\"24px\" viewBox=\"0 -960 960 960\">\n",
       "    <path d=\"M120-120v-720h720v720H120Zm60-500h600v-160H180v160Zm220 220h160v-160H400v160Zm0 220h160v-160H400v160ZM180-400h160v-160H180v160Zm440 0h160v-160H620v160ZM180-180h160v-160H180v160Zm440 0h160v-160H620v160Z\"/>\n",
       "  </svg>\n",
       "    </button>\n",
       "\n",
       "  <style>\n",
       "    .colab-df-container {\n",
       "      display:flex;\n",
       "      gap: 12px;\n",
       "    }\n",
       "\n",
       "    .colab-df-convert {\n",
       "      background-color: #E8F0FE;\n",
       "      border: none;\n",
       "      border-radius: 50%;\n",
       "      cursor: pointer;\n",
       "      display: none;\n",
       "      fill: #1967D2;\n",
       "      height: 32px;\n",
       "      padding: 0 0 0 0;\n",
       "      width: 32px;\n",
       "    }\n",
       "\n",
       "    .colab-df-convert:hover {\n",
       "      background-color: #E2EBFA;\n",
       "      box-shadow: 0px 1px 2px rgba(60, 64, 67, 0.3), 0px 1px 3px 1px rgba(60, 64, 67, 0.15);\n",
       "      fill: #174EA6;\n",
       "    }\n",
       "\n",
       "    .colab-df-buttons div {\n",
       "      margin-bottom: 4px;\n",
       "    }\n",
       "\n",
       "    [theme=dark] .colab-df-convert {\n",
       "      background-color: #3B4455;\n",
       "      fill: #D2E3FC;\n",
       "    }\n",
       "\n",
       "    [theme=dark] .colab-df-convert:hover {\n",
       "      background-color: #434B5C;\n",
       "      box-shadow: 0px 1px 3px 1px rgba(0, 0, 0, 0.15);\n",
       "      filter: drop-shadow(0px 1px 2px rgba(0, 0, 0, 0.3));\n",
       "      fill: #FFFFFF;\n",
       "    }\n",
       "  </style>\n",
       "\n",
       "    <script>\n",
       "      const buttonEl =\n",
       "        document.querySelector('#df-4151e701-bdc6-45f7-996b-7fd69af7d62c button.colab-df-convert');\n",
       "      buttonEl.style.display =\n",
       "        google.colab.kernel.accessAllowed ? 'block' : 'none';\n",
       "\n",
       "      async function convertToInteractive(key) {\n",
       "        const element = document.querySelector('#df-4151e701-bdc6-45f7-996b-7fd69af7d62c');\n",
       "        const dataTable =\n",
       "          await google.colab.kernel.invokeFunction('convertToInteractive',\n",
       "                                                    [key], {});\n",
       "        if (!dataTable) return;\n",
       "\n",
       "        const docLinkHtml = 'Like what you see? Visit the ' +\n",
       "          '<a target=\"_blank\" href=https://colab.research.google.com/notebooks/data_table.ipynb>data table notebook</a>'\n",
       "          + ' to learn more about interactive tables.';\n",
       "        element.innerHTML = '';\n",
       "        dataTable['output_type'] = 'display_data';\n",
       "        await google.colab.output.renderOutput(dataTable, element);\n",
       "        const docLink = document.createElement('div');\n",
       "        docLink.innerHTML = docLinkHtml;\n",
       "        element.appendChild(docLink);\n",
       "      }\n",
       "    </script>\n",
       "  </div>\n",
       "\n",
       "\n",
       "    </div>\n",
       "  </div>\n"
      ],
      "text/plain": [
       "   iteration       pr  prts_oleo  prts_pluma\n",
       "0          0  0.00697   0.011959    0.031697"
      ]
     },
     "execution_count": 55,
     "metadata": {},
     "output_type": "execute_result"
    }
   ],
   "source": [
    "def create_iter_df(array, name):\n",
    "    s = pd.Series(array)\n",
    "    return pd.DataFrame({\"iteration\": s.index, name: s})\n",
    "\n",
    "\n",
    "df_list = [\n",
    "    create_iter_df(deltas, \"pr\"),\n",
    "    create_iter_df(delta_dict[\"óleo\"], \"prts_oleo\"),\n",
    "    create_iter_df(delta_dict[\"pluma\"], \"prts_pluma\"),\n",
    "]\n",
    "\n",
    "delta_all = df_list[0].copy()\n",
    "for df in df_list[1:]:\n",
    "    delta_all = delta_all.merge(df, on=\"iteration\", how=\"outer\")\n",
    "\n",
    "delta_all.head(1)"
   ]
  },
  {
   "cell_type": "markdown",
   "metadata": {
    "id": "8UX1mgMtidhT"
   },
   "source": [
    "## Analysis of results\n"
   ]
  },
  {
   "cell_type": "markdown",
   "metadata": {
    "id": "ONjGyWSliuyc"
   },
   "source": [
    "### Convergence progress\n"
   ]
  },
  {
   "cell_type": "code",
   "execution_count": 56,
   "metadata": {
    "colab": {
     "base_uri": "https://localhost:8080/",
     "height": 407
    },
    "id": "Qp61BanfijVX",
    "outputId": "75b3d0fa-e98e-4bc7-d8a9-49a2986055db"
   },
   "outputs": [
    {
     "data": {
      "image/png": "[encoded data removed]",
      "text/plain": [
       "<Figure size 700x400 with 1 Axes>"
      ]
     },
     "metadata": {},
     "output_type": "display_data"
    }
   ],
   "source": [
    "# Prepare plot data\n",
    "plt_data = delta_all.melt(id_vars=\"iteration\", var_name=\"pr_type\", value_name=\"delta\")\n",
    "\n",
    "# Plot convergence\n",
    "fig, ax = plt.subplots(figsize=(7, 4))\n",
    "sns.lineplot(\n",
    "    data=plt_data,\n",
    "    x=\"iteration\",\n",
    "    y=\"delta\",\n",
    "    hue=\"pr_type\",\n",
    "    style=\"pr_type\",\n",
    "    markers=True,\n",
    "    ax=ax,\n",
    ")\n",
    "\n",
    "ax.set_xlabel(\"Iteration\")\n",
    "ax.set_ylabel(\"L2-norm of rank difference\")\n",
    "ax.set_title(\"PageRank convergence\")\n",
    "ax.xaxis.set_major_locator(plt.MaxNLocator(integer=True))\n",
    "plt.grid(True)\n",
    "plt.legend(title=\"PageRank type\")\n",
    "plt.legend(bbox_to_anchor=(1.05, 1), loc=\"upper left\")\n",
    "plt.tight_layout()\n",
    "\n",
    "plt.show()"
   ]
  },
  {
   "cell_type": "markdown",
   "metadata": {
    "id": "14IPmtEYjBRm"
   },
   "source": [
    "### Comparision with NetworkX\n"
   ]
  },
  {
   "cell_type": "code",
   "execution_count": 57,
   "metadata": {
    "id": "VT_vIySUjEVm"
   },
   "outputs": [],
   "source": [
    "# Create a networkx graph\n",
    "edges_pd = edges.toPandas()\n",
    "nodes_list = [row[0] for row in nodes.select(\"node\").collect()]\n",
    "\n",
    "G = nx.from_pandas_edgelist(edges_pd, source=\"src\", target=\"dst\")\n",
    "G.add_nodes_from(nodes_list)"
   ]
  },
  {
   "cell_type": "code",
   "execution_count": 58,
   "metadata": {
    "id": "-IqRUK9IjJbz"
   },
   "outputs": [],
   "source": [
    "# Compute PageRank using networkx and join with spark results\n",
    "pr_nx = nx.pagerank(G, alpha=0.85)\n",
    "pr_nx = pd.DataFrame(pr_nx.items(), columns=[\"node\", \"pr_nx\"])\n",
    "pr_all_nx = pr_all.merge(pr_nx, on=\"node\")"
   ]
  },
  {
   "cell_type": "code",
   "execution_count": 59,
   "metadata": {
    "colab": {
     "base_uri": "https://localhost:8080/",
     "height": 507
    },
    "id": "kgCnZD4MjLdJ",
    "outputId": "48f5b705-cf23-40c6-b60e-97e8746ce933"
   },
   "outputs": [
    {
     "data": {
      "image/png": "[encoded data removed]",
      "text/plain": [
       "<Figure size 600x500 with 1 Axes>"
      ]
     },
     "metadata": {},
     "output_type": "display_data"
    }
   ],
   "source": [
    "# Plot scatter plot for correlation\n",
    "fig, ax = plt.subplots(figsize=(6, 5))\n",
    "pr_all_nx.plot.scatter(x=\"pr\", y=\"pr_nx\", ax=ax, alpha=0.5)\n",
    "ax.set_title(\"PageRank Spark vs PageRank NetworkX\")\n",
    "ax.set_xlabel(\"PageRank Spark\")\n",
    "ax.set_ylabel(\"PageRank NetworkX\")\n",
    "plt.plot(\n",
    "    [0, 1],\n",
    "    [0, 1],\n",
    "    transform=ax.transAxes,\n",
    "    ls=\"--\",\n",
    "    color=\"red\",\n",
    "    label=\"45 degree line\",\n",
    ")\n",
    "plt.tight_layout()\n",
    "plt.legend()\n",
    "plt.grid(True)\n",
    "\n",
    "plt.show()"
   ]
  },
  {
   "cell_type": "code",
   "execution_count": 60,
   "metadata": {
    "colab": {
     "base_uri": "https://localhost:8080/"
    },
    "id": "w57QDnYG4X94",
    "outputId": "c340669e-c96b-4b6c-cea4-e8f8fb222d0a"
   },
   "outputs": [
    {
     "data": {
      "text/plain": [
       "4.136002541481083e-08"
      ]
     },
     "execution_count": 60,
     "metadata": {},
     "output_type": "execute_result"
    }
   ],
   "source": [
    "# Compute L2 norm of difference\n",
    "pr_all_nx.apply(lambda x: (x[\"pr\"] - x[\"pr_nx\"]) ** 2, axis=1).sum()"
   ]
  },
  {
   "cell_type": "markdown",
   "metadata": {
    "id": "vqjUySN2jP1s"
   },
   "source": [
    "### PageRank scores correlation\n"
   ]
  },
  {
   "cell_type": "code",
   "execution_count": 61,
   "metadata": {
    "colab": {
     "base_uri": "https://localhost:8080/",
     "height": 633
    },
    "id": "5wf25kVwjV83",
    "outputId": "556178bf-d717-4b53-be11-79a3780f9ef1"
   },
   "outputs": [
    {
     "data": {
      "image/png": "[encoded data removed]",
      "text/plain": [
       "<Figure size 720x600 with 12 Axes>"
      ]
     },
     "metadata": {},
     "output_type": "display_data"
    }
   ],
   "source": [
    "# Plot pairwise scatter plots  for PageRank scores\n",
    "cols = [\n",
    "    \"pr\",\n",
    "    \"prts_oleo\",\n",
    "    \"prts_pluma\",\n",
    "]\n",
    "plt_data = pr_all[cols]\n",
    "g = sns.pairplot(plt_data, height=2, aspect=1.2)\n",
    "g.fig.suptitle(\"Pairwise scatter plots for PageRank scores\", y=1.02, fontsize=14)\n",
    "plt.tight_layout()\n",
    "\n",
    "plt.show()"
   ]
  },
  {
   "cell_type": "code",
   "execution_count": 66,
   "metadata": {
    "colab": {
     "base_uri": "https://localhost:8080/",
     "height": 143
    },
    "id": "k-_id4LnqhAT",
    "outputId": "884a1d83-4603-4ece-9e75-c94c920537f5"
   },
   "outputs": [
    {
     "data": {
      "application/vnd.google.colaboratory.intrinsic+json": {
       "summary": "{\n  \"name\": \"pr_all[cols]\",\n  \"rows\": 3,\n  \"fields\": [\n    {\n      \"column\": \"pr\",\n      \"properties\": {\n        \"dtype\": \"number\",\n        \"std\": 4.416559771702984e-05,\n        \"min\": 0.9999119321798237,\n        \"max\": 1.0,\n        \"num_unique_values\": 3,\n        \"samples\": [\n          1.0,\n          0.9999119321798237,\n          0.9999500631794307\n        ],\n        \"semantic_type\": \"\",\n        \"description\": \"\"\n      }\n    },\n    {\n      \"column\": \"prts_oleo\",\n      \"properties\": {\n        \"dtype\": \"number\",\n        \"std\": 4.872328663357191e-05,\n        \"min\": 0.9999119321798237,\n        \"max\": 1.0,\n        \"num_unique_values\": 3,\n        \"samples\": [\n          0.9999119321798237,\n          1.0,\n          0.99999208977007\n        ],\n        \"semantic_type\": \"\",\n        \"description\": \"\"\n      }\n    },\n    {\n      \"column\": \"prts_pluma\",\n      \"properties\": {\n        \"dtype\": \"number\",\n        \"std\": 2.684055422578259e-05,\n        \"min\": 0.9999500631794307,\n        \"max\": 1.0,\n        \"num_unique_values\": 3,\n        \"samples\": [\n          0.9999500631794307,\n          0.99999208977007,\n          1.0\n        ],\n        \"semantic_type\": \"\",\n        \"description\": \"\"\n      }\n    }\n  ]\n}",
       "type": "dataframe"
      },
      "text/html": [
       "\n",
       "  <div id=\"df-131aa311-0b8e-4c51-bf87-b5b65bcdbd72\" class=\"colab-df-container\">\n",
       "    <div>\n",
       "<style scoped>\n",
       "    .dataframe tbody tr th:only-of-type {\n",
       "        vertical-align: middle;\n",
       "    }\n",
       "\n",
       "    .dataframe tbody tr th {\n",
       "        vertical-align: top;\n",
       "    }\n",
       "\n",
       "    .dataframe thead th {\n",
       "        text-align: right;\n",
       "    }\n",
       "</style>\n",
       "<table border=\"1\" class=\"dataframe\">\n",
       "  <thead>\n",
       "    <tr style=\"text-align: right;\">\n",
       "      <th></th>\n",
       "      <th>pr</th>\n",
       "      <th>prts_oleo</th>\n",
       "      <th>prts_pluma</th>\n",
       "    </tr>\n",
       "  </thead>\n",
       "  <tbody>\n",
       "    <tr>\n",
       "      <th>pr</th>\n",
       "      <td>1.000000</td>\n",
       "      <td>0.999912</td>\n",
       "      <td>0.999950</td>\n",
       "    </tr>\n",
       "    <tr>\n",
       "      <th>prts_oleo</th>\n",
       "      <td>0.999912</td>\n",
       "      <td>1.000000</td>\n",
       "      <td>0.999992</td>\n",
       "    </tr>\n",
       "    <tr>\n",
       "      <th>prts_pluma</th>\n",
       "      <td>0.999950</td>\n",
       "      <td>0.999992</td>\n",
       "      <td>1.000000</td>\n",
       "    </tr>\n",
       "  </tbody>\n",
       "</table>\n",
       "</div>\n",
       "    <div class=\"colab-df-buttons\">\n",
       "\n",
       "  <div class=\"colab-df-container\">\n",
       "    <button class=\"colab-df-convert\" onclick=\"convertToInteractive('df-131aa311-0b8e-4c51-bf87-b5b65bcdbd72')\"\n",
       "            title=\"Convert this dataframe to an interactive table.\"\n",
       "            style=\"display:none;\">\n",
       "\n",
       "  <svg xmlns=\"http://www.w3.org/2000/svg\" height=\"24px\" viewBox=\"0 -960 960 960\">\n",
       "    <path d=\"M120-120v-720h720v720H120Zm60-500h600v-160H180v160Zm220 220h160v-160H400v160Zm0 220h160v-160H400v160ZM180-400h160v-160H180v160Zm440 0h160v-160H620v160ZM180-180h160v-160H180v160Zm440 0h160v-160H620v160Z\"/>\n",
       "  </svg>\n",
       "    </button>\n",
       "\n",
       "  <style>\n",
       "    .colab-df-container {\n",
       "      display:flex;\n",
       "      gap: 12px;\n",
       "    }\n",
       "\n",
       "    .colab-df-convert {\n",
       "      background-color: #E8F0FE;\n",
       "      border: none;\n",
       "      border-radius: 50%;\n",
       "      cursor: pointer;\n",
       "      display: none;\n",
       "      fill: #1967D2;\n",
       "      height: 32px;\n",
       "      padding: 0 0 0 0;\n",
       "      width: 32px;\n",
       "    }\n",
       "\n",
       "    .colab-df-convert:hover {\n",
       "      background-color: #E2EBFA;\n",
       "      box-shadow: 0px 1px 2px rgba(60, 64, 67, 0.3), 0px 1px 3px 1px rgba(60, 64, 67, 0.15);\n",
       "      fill: #174EA6;\n",
       "    }\n",
       "\n",
       "    .colab-df-buttons div {\n",
       "      margin-bottom: 4px;\n",
       "    }\n",
       "\n",
       "    [theme=dark] .colab-df-convert {\n",
       "      background-color: #3B4455;\n",
       "      fill: #D2E3FC;\n",
       "    }\n",
       "\n",
       "    [theme=dark] .colab-df-convert:hover {\n",
       "      background-color: #434B5C;\n",
       "      box-shadow: 0px 1px 3px 1px rgba(0, 0, 0, 0.15);\n",
       "      filter: drop-shadow(0px 1px 2px rgba(0, 0, 0, 0.3));\n",
       "      fill: #FFFFFF;\n",
       "    }\n",
       "  </style>\n",
       "\n",
       "    <script>\n",
       "      const buttonEl =\n",
       "        document.querySelector('#df-131aa311-0b8e-4c51-bf87-b5b65bcdbd72 button.colab-df-convert');\n",
       "      buttonEl.style.display =\n",
       "        google.colab.kernel.accessAllowed ? 'block' : 'none';\n",
       "\n",
       "      async function convertToInteractive(key) {\n",
       "        const element = document.querySelector('#df-131aa311-0b8e-4c51-bf87-b5b65bcdbd72');\n",
       "        const dataTable =\n",
       "          await google.colab.kernel.invokeFunction('convertToInteractive',\n",
       "                                                    [key], {});\n",
       "        if (!dataTable) return;\n",
       "\n",
       "        const docLinkHtml = 'Like what you see? Visit the ' +\n",
       "          '<a target=\"_blank\" href=https://colab.research.google.com/notebooks/data_table.ipynb>data table notebook</a>'\n",
       "          + ' to learn more about interactive tables.';\n",
       "        element.innerHTML = '';\n",
       "        dataTable['output_type'] = 'display_data';\n",
       "        await google.colab.output.renderOutput(dataTable, element);\n",
       "        const docLink = document.createElement('div');\n",
       "        docLink.innerHTML = docLinkHtml;\n",
       "        element.appendChild(docLink);\n",
       "      }\n",
       "    </script>\n",
       "  </div>\n",
       "\n",
       "\n",
       "<div id=\"df-644f97b5-e2ae-4369-b2cf-52a860c4b5e1\">\n",
       "  <button class=\"colab-df-quickchart\" onclick=\"quickchart('df-644f97b5-e2ae-4369-b2cf-52a860c4b5e1')\"\n",
       "            title=\"Suggest charts\"\n",
       "            style=\"display:none;\">\n",
       "\n",
       "<svg xmlns=\"http://www.w3.org/2000/svg\" height=\"24px\"viewBox=\"0 0 24 24\"\n",
       "     width=\"24px\">\n",
       "    <g>\n",
       "        <path d=\"M19 3H5c-1.1 0-2 .9-2 2v14c0 1.1.9 2 2 2h14c1.1 0 2-.9 2-2V5c0-1.1-.9-2-2-2zM9 17H7v-7h2v7zm4 0h-2V7h2v10zm4 0h-2v-4h2v4z\"/>\n",
       "    </g>\n",
       "</svg>\n",
       "  </button>\n",
       "\n",
       "<style>\n",
       "  .colab-df-quickchart {\n",
       "      --bg-color: #E8F0FE;\n",
       "      --fill-color: #1967D2;\n",
       "      --hover-bg-color: #E2EBFA;\n",
       "      --hover-fill-color: #174EA6;\n",
       "      --disabled-fill-color: #AAA;\n",
       "      --disabled-bg-color: #DDD;\n",
       "  }\n",
       "\n",
       "  [theme=dark] .colab-df-quickchart {\n",
       "      --bg-color: #3B4455;\n",
       "      --fill-color: #D2E3FC;\n",
       "      --hover-bg-color: #434B5C;\n",
       "      --hover-fill-color: #FFFFFF;\n",
       "      --disabled-bg-color: #3B4455;\n",
       "      --disabled-fill-color: #666;\n",
       "  }\n",
       "\n",
       "  .colab-df-quickchart {\n",
       "    background-color: var(--bg-color);\n",
       "    border: none;\n",
       "    border-radius: 50%;\n",
       "    cursor: pointer;\n",
       "    display: none;\n",
       "    fill: var(--fill-color);\n",
       "    height: 32px;\n",
       "    padding: 0;\n",
       "    width: 32px;\n",
       "  }\n",
       "\n",
       "  .colab-df-quickchart:hover {\n",
       "    background-color: var(--hover-bg-color);\n",
       "    box-shadow: 0 1px 2px rgba(60, 64, 67, 0.3), 0 1px 3px 1px rgba(60, 64, 67, 0.15);\n",
       "    fill: var(--button-hover-fill-color);\n",
       "  }\n",
       "\n",
       "  .colab-df-quickchart-complete:disabled,\n",
       "  .colab-df-quickchart-complete:disabled:hover {\n",
       "    background-color: var(--disabled-bg-color);\n",
       "    fill: var(--disabled-fill-color);\n",
       "    box-shadow: none;\n",
       "  }\n",
       "\n",
       "  .colab-df-spinner {\n",
       "    border: 2px solid var(--fill-color);\n",
       "    border-color: transparent;\n",
       "    border-bottom-color: var(--fill-color);\n",
       "    animation:\n",
       "      spin 1s steps(1) infinite;\n",
       "  }\n",
       "\n",
       "  @keyframes spin {\n",
       "    0% {\n",
       "      border-color: transparent;\n",
       "      border-bottom-color: var(--fill-color);\n",
       "      border-left-color: var(--fill-color);\n",
       "    }\n",
       "    20% {\n",
       "      border-color: transparent;\n",
       "      border-left-color: var(--fill-color);\n",
       "      border-top-color: var(--fill-color);\n",
       "    }\n",
       "    30% {\n",
       "      border-color: transparent;\n",
       "      border-left-color: var(--fill-color);\n",
       "      border-top-color: var(--fill-color);\n",
       "      border-right-color: var(--fill-color);\n",
       "    }\n",
       "    40% {\n",
       "      border-color: transparent;\n",
       "      border-right-color: var(--fill-color);\n",
       "      border-top-color: var(--fill-color);\n",
       "    }\n",
       "    60% {\n",
       "      border-color: transparent;\n",
       "      border-right-color: var(--fill-color);\n",
       "    }\n",
       "    80% {\n",
       "      border-color: transparent;\n",
       "      border-right-color: var(--fill-color);\n",
       "      border-bottom-color: var(--fill-color);\n",
       "    }\n",
       "    90% {\n",
       "      border-color: transparent;\n",
       "      border-bottom-color: var(--fill-color);\n",
       "    }\n",
       "  }\n",
       "</style>\n",
       "\n",
       "  <script>\n",
       "    async function quickchart(key) {\n",
       "      const quickchartButtonEl =\n",
       "        document.querySelector('#' + key + ' button');\n",
       "      quickchartButtonEl.disabled = true;  // To prevent multiple clicks.\n",
       "      quickchartButtonEl.classList.add('colab-df-spinner');\n",
       "      try {\n",
       "        const charts = await google.colab.kernel.invokeFunction(\n",
       "            'suggestCharts', [key], {});\n",
       "      } catch (error) {\n",
       "        console.error('Error during call to suggestCharts:', error);\n",
       "      }\n",
       "      quickchartButtonEl.classList.remove('colab-df-spinner');\n",
       "      quickchartButtonEl.classList.add('colab-df-quickchart-complete');\n",
       "    }\n",
       "    (() => {\n",
       "      let quickchartButtonEl =\n",
       "        document.querySelector('#df-644f97b5-e2ae-4369-b2cf-52a860c4b5e1 button');\n",
       "      quickchartButtonEl.style.display =\n",
       "        google.colab.kernel.accessAllowed ? 'block' : 'none';\n",
       "    })();\n",
       "  </script>\n",
       "</div>\n",
       "\n",
       "    </div>\n",
       "  </div>\n"
      ],
      "text/plain": [
       "                  pr  prts_oleo  prts_pluma\n",
       "pr          1.000000   0.999912    0.999950\n",
       "prts_oleo   0.999912   1.000000    0.999992\n",
       "prts_pluma  0.999950   0.999992    1.000000"
      ]
     },
     "execution_count": 66,
     "metadata": {},
     "output_type": "execute_result"
    }
   ],
   "source": [
    "# Pearson correlation\n",
    "pr_all[cols].corr(method=\"pearson\")"
   ]
  }
 ],
 "metadata": {
  "colab": {
   "provenance": []
  },
  "kernelspec": {
   "display_name": "py310",
   "language": "python",
   "name": "python3"
  },
  "language_info": {
   "codemirror_mode": {
    "name": "ipython",
    "version": 3
   },
   "file_extension": ".py",
   "mimetype": "text/x-python",
   "name": "python",
   "nbconvert_exporter": "python",
   "pygments_lexer": "ipython3",
   "version": "3.10.15"
  }
 },
 "nbformat": 4,
 "nbformat_minor": 0
}
